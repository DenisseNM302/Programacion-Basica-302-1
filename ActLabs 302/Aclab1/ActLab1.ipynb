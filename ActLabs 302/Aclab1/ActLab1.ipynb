{
  "nbformat": 4,
  "nbformat_minor": 0,
  "metadata": {
    "colab": {
      "provenance": [],
      "authorship_tag": "ABX9TyMpiBPXePOh5p3bWuwLHcHB",
      "include_colab_link": true
    },
    "kernelspec": {
      "name": "python3",
      "display_name": "Python 3"
    },
    "language_info": {
      "name": "python"
    }
  },
  "cells": [
    {
      "cell_type": "markdown",
      "metadata": {
        "id": "view-in-github",
        "colab_type": "text"
      },
      "source": [
        "<a href=\"https://colab.research.google.com/github/DenisseNM302/Programacion-Basica-302-1/blob/main/ActLabs%20302/Aclab1/ActLab1.ipynb\" target=\"_parent\"><img src=\"https://colab.research.google.com/assets/colab-badge.svg\" alt=\"Open In Colab\"/></a>"
      ]
    },
    {
      "cell_type": "markdown",
      "source": [
        "Actividad de Laboratorio 1 Impresion de Mensajes"
      ],
      "metadata": {
        "id": "iy3rVgvExsRk"
      }
    },
    {
      "cell_type": "markdown",
      "source": [
        "PB302_1.cpp Programa para Bienvenida"
      ],
      "metadata": {
        "id": "FuXy3zTgmRHY"
      }
    },
    {
      "cell_type": "code",
      "execution_count": null,
      "metadata": {
        "colab": {
          "base_uri": "https://localhost:8080/"
        },
        "id": "zJqCZ4Grlm2H",
        "outputId": "0c77850b-14a0-4ae9-b14c-cebc508e57dc"
      },
      "outputs": [
        {
          "output_type": "stream",
          "name": "stdout",
          "text": [
            "Overwriting PB302_1.cpp\n"
          ]
        }
      ],
      "source": [
        "%%writefile PB302_1.cpp\n",
        "//Programa para imprimir mensaje de bienvenida\n",
        "//Creado por Denisse Noris Marquez\n",
        "//Fecha: 15/septiembre/2025\n",
        "//PB302_1.ccp\n",
        "#include <iostream>\n",
        "using namespace std;\n",
        "int main()\n",
        "{\n",
        "  cout<<\"Bienvenidos a Programacion Basica en C++\\n\";\n",
        "  cout<<\"Gracias por Programar en clase\";\n",
        "  return 0;\n",
        "}\n"
      ]
    },
    {
      "cell_type": "code",
      "source": [
        "!g++ PB302_1.cpp -o PB302_1\n",
        "!./PB302_1"
      ],
      "metadata": {
        "colab": {
          "base_uri": "https://localhost:8080/"
        },
        "id": "S2XCfL4Lp1ey",
        "outputId": "424354a3-bf9a-4788-c70b-0cb6f4a362af"
      },
      "execution_count": null,
      "outputs": [
        {
          "output_type": "stream",
          "name": "stdout",
          "text": [
            "Bienvenidos a Programacion Basica en C++\n",
            "Gracias por Programar en clase"
          ]
        }
      ]
    },
    {
      "cell_type": "markdown",
      "source": [
        "PB302_2.cpp Programa para imprimir datos personales"
      ],
      "metadata": {
        "id": "s-VGX24mq-Z6"
      }
    },
    {
      "cell_type": "code",
      "source": [
        "%%writefile PB302_2.cpp\n",
        "//Programa para Mostrar datos personales\n",
        "//Creado por Denisse Noris Marquez\n",
        "//Fecha:18/Septiembre/2025\n",
        "//PB302_2.cpp\n",
        "#include <iostream>\n",
        "using namespace std;\n",
        "int main()\n",
        "{\n",
        " char nombre [10]=\"Denisse\";\n",
        " char paterno [10]=\"Noris\";\n",
        " char materno [10]=\"Marquez\";\n",
        " int edad=16;\n",
        " char direccion[40]=\" Calle islas barbados\";\n",
        " char fechanac[11]=\"08/03/2009\";\n",
        " char ciudadnac[10]=\"Juarez\";\n",
        "\n",
        " cout<<\"Tu Nombre completo es:\\n\";\n",
        " cout<<nombre<<\"\\n\";\n",
        " cout<<paterno<<\"\\n\";\n",
        " cout<<materno<<\"\\n\";\n",
        " cout<<edad<<\"\\n\";\n",
        " cout<<direccion<<\"\\n\";\n",
        " cout<<fechanac<<\"\\n\";\n",
        " cout<<ciudadnac<<\"\\n\";\n",
        " return 0;\n",
        "\n",
        "}"
      ],
      "metadata": {
        "colab": {
          "base_uri": "https://localhost:8080/"
        },
        "id": "oAcnKKTnrXVR",
        "outputId": "fd6ca469-c68c-42b0-d68c-8f8b2984941e"
      },
      "execution_count": 17,
      "outputs": [
        {
          "output_type": "stream",
          "name": "stdout",
          "text": [
            "Overwriting PB302_2.cpp\n"
          ]
        }
      ]
    },
    {
      "cell_type": "code",
      "source": [
        "!g++ PB302_2.cpp -o PB302_2.exe\n",
        "!./PB302_2.exe"
      ],
      "metadata": {
        "colab": {
          "base_uri": "https://localhost:8080/"
        },
        "id": "JtRnUkg3wp9m",
        "outputId": "147c2217-6c14-401d-dec3-83ba67f25ebe"
      },
      "execution_count": 18,
      "outputs": [
        {
          "output_type": "stream",
          "name": "stdout",
          "text": [
            "Tu Nombre completo es:\n",
            "Denisse\n",
            "Noris\n",
            "Marquez\n",
            "16\n",
            " Calle islas barbados\n",
            "08/03/2009\n",
            "Juarez\n"
          ]
        }
      ]
    }
  ]
}